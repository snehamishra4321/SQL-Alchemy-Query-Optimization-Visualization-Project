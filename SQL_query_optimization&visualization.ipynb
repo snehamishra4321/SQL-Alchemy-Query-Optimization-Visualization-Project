{
 "cells": [
  {
   "cell_type": "markdown",
   "id": "c591d3ad",
   "metadata": {
    "id": "c591d3ad"
   },
   "source": [
    "# Group Assignment: Data Preparation and Visualization"
   ]
  },
  {
   "cell_type": "markdown",
   "id": "d83a4ff4",
   "metadata": {
    "id": "d83a4ff4"
   },
   "source": [
    "## 1. Group members for group no. 30:\n",
    "\n",
    " Bingwen Liu<br> \n",
    " Hemanth Sontineni<br>\n",
    " Sneha Mishra<br>\n",
    " Srishti Rath<br>\n",
    " Vedang Gupte<br>\n",
    "\n",
    "***"
   ]
  },
  {
   "cell_type": "markdown",
   "id": "40e65dfa",
   "metadata": {
    "id": "40e65dfa"
   },
   "source": [
    "## 2. Contribution report\n",
    "\n",
    "After completing the assignment, please answer the following questions **as a group** by adding your answers within this markdown block.\n",
    "\n",
    "1. In a few sentences, describe each group member's individual contributions to the submission. Be as specific as possible (e.g. coordinated group efforts, specific problems answered, specific problems reviewed/revised, sections of the submission written, etc.).\n",
    "\n",
    "    \n",
    "We initially met together and discussed the approach to queries and visualizations for all parts together. Thereafter, we divided the work as follows-\n",
    "#### Sneha- Analysis, Querying and Visualizations for Part 1 <br>\n",
    "#### Vedang, Srishti- Analysis, Querying and Visualizations for Part 2<br>\n",
    "#### Bingwen, Hemanth- Analysis, Querying and Visualizations for Part 3 <br>\n",
    "\n",
    "#### We also brain-stormed at the end together where each person contributed towards fixing the plots, drawing out insights and finalizing the entire assignment.\n",
    "\n",
    "#### We each took up one question each for part 4. The division was as follows-\n",
    "Q1- Vedang <br>\n",
    "Q2- Srishti  <br>\n",
    "Q3- Bingwen  <br>\n",
    "Q4- Hemanth  <br>\n",
    "Q5- Sneha  <br>\n",
    "\n",
    "\n",
    "2. In a few sentences, describe what was learned in completing this assignment. In particular, describe what was learned through the **specific individual contributions** mentioned above.\n",
    "    \n",
    "#### Completing this assignment helped us understand a ton of things regarding requirements analysis and visualization. Some of our learnings are-\n",
    "\n",
    "1) How to interpret business requirements as they might come from your manager or clients  <br>\n",
    "2) Understanding how data is stored in RDBMS and the relations between data  <br>\n",
    "3) Querying databases to fetch the required data for our needs <br>\n",
    "4) Experiment with visualizations to see which charts and plot fit certain questions. Accurate representation of data by picking the best option among these.<br>\n",
    "5) How to set labels, legends and titles for bar plots in an effective manner to give insightful visualizations.(Sneha) <br>\n",
    "6) How to analyse the factors affecting best or worst performers in a category (Vedang, Srishti) <br>\n",
    "7)How to create line charts and make presentable visualizations using seaborn( Vedang, Srishti) <br>\n",
    "8) How to analyze correlation between various factors affecting target variable and forming hypothesis based on assumptions and possible insights.(Sneha) <br>\n",
    "9) How to make scatter plot visualizations with presentable attributes (Hemanth, Bingwen) <br>\n",
    "10) Analyzing historical trends and projections (Bingwen) <br>\n",
    "11) Analyzing relations between sales of different products (Hemanth) <br>\n",
    "***"
   ]
  },
  {
   "cell_type": "markdown",
   "id": "d5eadb26",
   "metadata": {
    "id": "d5eadb26"
   },
   "source": [
    "## 3. Assignment\n",
    "\n",
    "### Instructions: \n",
    "You will be presented with a scenario and will need to utilize your SQL and python skills to complete this assignment successfully. \n",
    "\n",
    "Put this .ipynb file in the `jupyter_notebooks` folder in your Docker Compose directory.  Then you will be able to connect to the database and run your code without issue.\n",
    "\n",
    "Each group will submit two files:\n",
    "1. a single Jupyter Notebook (.ipynb).  **You must Run All cells before submitting.** This notebook should have all of the relevant visualizations and output displayed properly.  We will restart and run all of the code from this notebook, which should not produce any errors.\n",
    "2. a PDF version (.pdf) of the Jupyter Notebook. This PDF should have all of the relevant visualizations and output displayed properly. "
   ]
  },
  {
   "cell_type": "code",
   "execution_count": 75,
   "id": "1de42dc2",
   "metadata": {
    "colab": {
     "base_uri": "https://localhost:8080/",
     "height": 536
    },
    "id": "1de42dc2",
    "outputId": "030292cd-74b3-4256-a208-8fa9c4ab6e22"
   },
   "outputs": [
    {
     "name": "stdout",
     "output_type": "stream",
     "text": [
      "postgresql+psycopg2://{username}:{pswd}@{host}:{port}/{database}\n"
     ]
    },
    {
     "data": {
      "text/plain": [
       "[(1, None, 'Arlena', 'Riveles', None, 'ariveles0@stumbleupon.com', 'F', '98.36.172.246', None, None, None, None, None, None, None, datetime.datetime(2017, 4, 23, 0, 0)),\n",
       " (2, 'Dr', 'Ode', 'Stovin', None, 'ostovin1@npr.org', 'M', '16.97.59.186', '314-534-4361', '2573 Fordem Parkway', 'Saint Louis', 'MO', '63116', 38.5814, -90.2625, datetime.datetime(2014, 10, 2, 0, 0))]"
      ]
     },
     "execution_count": 75,
     "metadata": {},
     "output_type": "execute_result"
    }
   ],
   "source": [
    "#run this code first to connect to the database and verify the connection is working\n",
    "## DO NOT MODIFY THIS CODE BLOCK\n",
    "## If you have placed this notebook in the jupyter notebooks folder properly, \n",
    "## this block should return the first two rows of the customers table\n",
    "\n",
    "from sqlalchemy import create_engine\n",
    "import pandas as pd\n",
    "import numpy as np\n",
    "import matplotlib.pyplot as plt\n",
    "import seaborn as sns\n",
    "from IPython.core.interactiveshell import InteractiveShell\n",
    "InteractiveShell.ast_node_interactivity = \"all\"\n",
    "\n",
    "%matplotlib inline\n",
    "\n",
    "cnxn_string = (\"postgresql+psycopg2://{username}:{pswd}\"\n",
    "              \"@{host}:{port}/{database}\")\n",
    "print(cnxn_string)\n",
    "\n",
    "engine = create_engine(cnxn_string.format(\n",
    "    username=\"postgres\",\n",
    "    pswd=\"behappy\",\n",
    "    host=\"postgres\",\n",
    "    port=5432,\n",
    "    database=\"sqlda\"))\n",
    "\n",
    "engine.execute(\"SELECT * FROM customers LIMIT 2;\").fetchall()"
   ]
  },
  {
   "cell_type": "markdown",
   "id": "46d3ef9e",
   "metadata": {
    "id": "46d3ef9e"
   },
   "source": [
    "## Scenario \n",
    "\n",
    "You are a team of extremely successful data scientists at a top motor dealership company. You need to create summary tables and visualizations that your boss will present at the next company shareholder meeting.  She has sent you the following e-mail describing what she needs.\n",
    "\n",
    "***\n",
    "From: importantboss@topmotordealershipcompany.com\n",
    "\n",
    "To: datascienceteam@topmotordealershipcompany.com\n",
    "\n",
    "Subject: Data request for shareholder meeting\n",
    "\n",
    "We are planning to expand our services in states with the highest sales amounts.  For our next shareholder meeting, we need to provide more information about sales performance at the state level and possible reasons why sales are lower in some states.  Please send me information to address the following items for our next shareholder meeting along with your thoughts.\n",
    "\n",
    "1. Sales performance at the state level (top 5 and bottom 5 states)\n",
    "2. For the best performing states, which dealerships are performing well and how are they trending?\n",
    "3. Is sales performance by state associated with the types of products sold (scooter vs. automobile)?\n",
    "\n",
    "Thank you!\n",
    "\n",
    "-Important Boss\n",
    "\n",
    "***"
   ]
  },
  {
   "cell_type": "markdown",
   "id": "f0a35e92",
   "metadata": {
    "id": "f0a35e92"
   },
   "source": [
    "Your team promptly comes up with the following plan."
   ]
  },
  {
   "cell_type": "markdown",
   "id": "b2fa35b6",
   "metadata": {
    "id": "b2fa35b6"
   },
   "source": [
    "## Part 1: Visualizing the top and bottom performing states\n",
    "\n",
    "1. Write a SELECT query that returns the total sales amount for each state from January 1, 2017 to now.  The table should have two columns, `state` and `total_sales_amount`, with one row for each state ordered by `total_sales_amount` in *descending* order. Make sure that `total_sales_amount` is rounded appropriately.\n",
    "\n",
    "\n",
    "2. Use SQLAlchemy to execute the query and store the results in a pandas dataframe called `sales_by_state`.\n",
    "\n",
    "\n",
    "3. Display the rows in `sales_by_state` corresponding to the 5 states with the **largest** total sales amount in *descending* order.\n",
    "\n",
    "\n",
    "4. Display the rows in `sales_by_state` corresponding to the 5 states with the **smallest** total sales amount in *ascending* order.\n",
    "\n",
    "\n",
    "5. Visualize sales performance by state for the top and bottom performing states discovered in 1.3 and 1.4.  You can use more than one visualization.  These should be **presentation ready** (e.g. appropriate and complete titles and axis labels, remove unnecessary/distracting features, display date range for total sales, no overlapping axis labels, etc.). \n",
    "\n",
    "Include the code needed for each component of part 1 in the appropriate code block below."
   ]
  },
  {
   "cell_type": "code",
   "execution_count": 76,
   "id": "342643df",
   "metadata": {
    "id": "342643df"
   },
   "outputs": [],
   "source": [
    "#1.1 select query\n",
    "query_1 = \"\"\"\n",
    "select state, cast(sum(sales_amount) as decimal (16,2)) as total_sales_amount\n",
    "from sales as s\n",
    "inner Join customers as c\n",
    "using(customer_id)\n",
    "where state is not null and s.sales_transaction_date >='01-01-2017'\n",
    "group by state\n",
    "order by total_sales_amount desc;\n",
    "\"\"\""
   ]
  },
  {
   "cell_type": "code",
   "execution_count": 77,
   "id": "81539240",
   "metadata": {
    "colab": {
     "base_uri": "https://localhost:8080/",
     "height": 519
    },
    "id": "81539240",
    "outputId": "367cba45-a2f3-4261-90b4-04a18a3b489e"
   },
   "outputs": [],
   "source": [
    "#1.2 create dataframe\n",
    "sales_by_state = pd.read_sql_query(query_1,engine)\n"
   ]
  },
  {
   "cell_type": "code",
   "execution_count": 78,
   "id": "257adc19",
   "metadata": {
    "id": "257adc19"
   },
   "outputs": [
    {
     "data": {
      "text/html": [
       "<div>\n",
       "<style scoped>\n",
       "    .dataframe tbody tr th:only-of-type {\n",
       "        vertical-align: middle;\n",
       "    }\n",
       "\n",
       "    .dataframe tbody tr th {\n",
       "        vertical-align: top;\n",
       "    }\n",
       "\n",
       "    .dataframe thead th {\n",
       "        text-align: right;\n",
       "    }\n",
       "</style>\n",
       "<table border=\"1\" class=\"dataframe\">\n",
       "  <thead>\n",
       "    <tr style=\"text-align: right;\">\n",
       "      <th></th>\n",
       "      <th>state</th>\n",
       "      <th>total_sales_amount</th>\n",
       "    </tr>\n",
       "  </thead>\n",
       "  <tbody>\n",
       "    <tr>\n",
       "      <th>0</th>\n",
       "      <td>CA</td>\n",
       "      <td>15857815.99</td>\n",
       "    </tr>\n",
       "    <tr>\n",
       "      <th>1</th>\n",
       "      <td>TX</td>\n",
       "      <td>15425788.00</td>\n",
       "    </tr>\n",
       "    <tr>\n",
       "      <th>2</th>\n",
       "      <td>FL</td>\n",
       "      <td>10410607.25</td>\n",
       "    </tr>\n",
       "    <tr>\n",
       "      <th>3</th>\n",
       "      <td>NY</td>\n",
       "      <td>9523439.42</td>\n",
       "    </tr>\n",
       "    <tr>\n",
       "      <th>4</th>\n",
       "      <td>PA</td>\n",
       "      <td>5031834.85</td>\n",
       "    </tr>\n",
       "  </tbody>\n",
       "</table>\n",
       "</div>"
      ],
      "text/plain": [
       "  state  total_sales_amount\n",
       "0    CA         15857815.99\n",
       "1    TX         15425788.00\n",
       "2    FL         10410607.25\n",
       "3    NY          9523439.42\n",
       "4    PA          5031834.85"
      ]
     },
     "execution_count": 78,
     "metadata": {},
     "output_type": "execute_result"
    }
   ],
   "source": [
    "#1.3 display top 5 performing states\n",
    "sales_by_state[0:5]\n"
   ]
  },
  {
   "cell_type": "code",
   "execution_count": 79,
   "id": "85cfd4ef",
   "metadata": {
    "id": "85cfd4ef",
    "scrolled": true
   },
   "outputs": [
    {
     "data": {
      "text/html": [
       "<div>\n",
       "<style scoped>\n",
       "    .dataframe tbody tr th:only-of-type {\n",
       "        vertical-align: middle;\n",
       "    }\n",
       "\n",
       "    .dataframe tbody tr th {\n",
       "        vertical-align: top;\n",
       "    }\n",
       "\n",
       "    .dataframe thead th {\n",
       "        text-align: right;\n",
       "    }\n",
       "</style>\n",
       "<table border=\"1\" class=\"dataframe\">\n",
       "  <thead>\n",
       "    <tr style=\"text-align: right;\">\n",
       "      <th></th>\n",
       "      <th>state</th>\n",
       "      <th>total_sales_amount</th>\n",
       "    </tr>\n",
       "  </thead>\n",
       "  <tbody>\n",
       "    <tr>\n",
       "      <th>46</th>\n",
       "      <td>ME</td>\n",
       "      <td>36364.92</td>\n",
       "    </tr>\n",
       "    <tr>\n",
       "      <th>47</th>\n",
       "      <td>VT</td>\n",
       "      <td>30014.96</td>\n",
       "    </tr>\n",
       "    <tr>\n",
       "      <th>48</th>\n",
       "      <td>SD</td>\n",
       "      <td>24179.58</td>\n",
       "    </tr>\n",
       "    <tr>\n",
       "      <th>49</th>\n",
       "      <td>RI</td>\n",
       "      <td>6099.90</td>\n",
       "    </tr>\n",
       "    <tr>\n",
       "      <th>50</th>\n",
       "      <td>WY</td>\n",
       "      <td>3249.94</td>\n",
       "    </tr>\n",
       "  </tbody>\n",
       "</table>\n",
       "</div>"
      ],
      "text/plain": [
       "   state  total_sales_amount\n",
       "46    ME            36364.92\n",
       "47    VT            30014.96\n",
       "48    SD            24179.58\n",
       "49    RI             6099.90\n",
       "50    WY             3249.94"
      ]
     },
     "execution_count": 79,
     "metadata": {},
     "output_type": "execute_result"
    }
   ],
   "source": [
    "#1.4 display bottom 5 performing states\n",
    "sales_by_state[-5:]\n"
   ]
  },
  {
   "cell_type": "code",
   "execution_count": 80,
   "id": "2e37aae3",
   "metadata": {
    "id": "2e37aae3",
    "scrolled": true
   },
   "outputs": [
    {
     "data": {
      "text/plain": [
       "<bound method _make_class_factory.<locals>.class_factory.<locals>.subcls.set of <AxesSubplot:title={'center':'Top 5 states for sales from Jan 1, 2017 to now'}, xlabel='state'>>"
      ]
     },
     "execution_count": 80,
     "metadata": {},
     "output_type": "execute_result"
    },
    {
     "data": {
      "text/plain": [
       "Text(0, 0.5, 'total_sales_amount')"
      ]
     },
     "execution_count": 80,
     "metadata": {},
     "output_type": "execute_result"
    },
    {
     "data": {
      "image/png": "[encoded data removed]",
      "text/plain": [
       "<Figure size 432x288 with 1 Axes>"
      ]
     },
     "metadata": {
      "needs_background": "light"
     },
     "output_type": "display_data"
    }
   ],
   "source": [
    "#1.5 visualize top and bottom performing states\n",
    "#df_top_bottom = sales_by_state[0:5]+sales_by_state[-5:]\n",
    "ax = sales_by_state[0:5].plot.bar('state', y='total_sales_amount', title='Top 5 states for sales from Jan 1, 2017 to now')\n",
    "ax.title.set_size(15)\n",
    "ax.set\n",
    "ax.set_ylabel('total_sales_amount')\n",
    "ax.yaxis.label.set_fontsize(12)\n",
    "ax.xaxis.label.set_fontsize(12)\n",
    "ax.ticklabel_format(style='plain', axis='y')\n",
    "ax.get_legend().remove() \n",
    "\n"
   ]
  },
  {
   "cell_type": "code",
   "execution_count": 81,
   "id": "7a2e7d69",
   "metadata": {
    "id": "7a2e7d69"
   },
   "outputs": [
    {
     "data": {
      "text/plain": [
       "Text(0, 0.5, 'total_sales_amount')"
      ]
     },
     "execution_count": 81,
     "metadata": {},
     "output_type": "execute_result"
    },
    {
     "data": {
      "image/png": "[encoded data removed]",
      "text/plain": [
       "<Figure size 432x288 with 1 Axes>"
      ]
     },
     "metadata": {
      "needs_background": "light"
     },
     "output_type": "display_data"
    }
   ],
   "source": [
    "#1.5 visualize top and bottom performing states\n",
    "#df_top_bottom = sales_by_state[0:5]+sales_by_state[-5:]\n",
    "ax = sales_by_state[-5:].plot.bar('state', y='total_sales_amount', title='Bottom 5 states for sales from Jan 1, 2017 to now')\n",
    "ax.title.set_size(15)\n",
    "ax.set_ylabel('total_sales_amount')\n",
    "ax.yaxis.label.set_fontsize(12)\n",
    "ax.xaxis.label.set_fontsize(12)\n",
    "ax.ticklabel_format(style='plain', axis='y')\n",
    "ax.get_legend().remove() "
   ]
  },
  {
   "cell_type": "markdown",
   "id": "7b3df305",
   "metadata": {
    "id": "7b3df305"
   },
   "source": [
    "## Part 2: Top performing dealerships\n",
    "\n",
    "Create a table and visualization of historical cumulative sales amounts by dealership from January 1, 2017 to now.  Only include dealerships located in the *top two* states determined in Part 1.  To do this, perform the following steps:\n",
    "    \n",
    "   1. Write a SELECT query that returns three columns: `dealership_id`,`sales_transaction_date`, and `cumulative_sales`.  `cumulative_sales` represents the cumulative sales amount from January 1, 2017 to the `sales_transaction_date` for dealership identified by `dealership_id`.  There should be a row for each distinct combination of `dealership_id` and `sales_transaction_date` in the `sales` table (*hint*: window function).\n",
    "    \n",
    "    \n",
    "   2. Use SQLAlchemy to execute the query and store the results in a pandas dataframe called `cumulative_sales_bydealership`.\n",
    "    \n",
    "    \n",
    "   3. Appropriately visualize historical cumulative sales by dealership across sales transaction dates *in a single plot* (*hint*: seaborn). Visualization should be **presentation ready** (e.g. appropriate and complete titles and legend/axis labels, remove unnecessary/distracting features, display date range for total sales, no overlapping axis labels, integer-valued dealership IDs, states indicated clearly, etc.). "
   ]
  },
  {
   "cell_type": "code",
   "execution_count": 82,
   "id": "aa2e82c9",
   "metadata": {
    "id": "aa2e82c9"
   },
   "outputs": [],
   "source": [
    "#2.1 select query\n",
    "query_2 = \"\"\"\n",
    "SELECT d.dealership_id, DATE(sales_transaction_date) AS sales_transaction_date,\n",
    "SUM(ROUND(CAST(sales_amount as DECIMAL), 2)) OVER(PARTITION BY d.dealership_id \n",
    "ORDER BY sales_transaction_date ROWS BETWEEN UNBOUNDED PRECEDING AND CURRENT ROW) as cumulative_sales\n",
    "FROM sales AS s \n",
    "RIGHT JOIN dealerships AS d\n",
    "ON d.dealership_id = s.dealership_id\n",
    "WHERE state in ('CA','TX') and sales_transaction_date >= '2017-01-01';\n",
    "\"\"\""
   ]
  },
  {
   "cell_type": "code",
   "execution_count": 83,
   "id": "3bef8b9a",
   "metadata": {
    "id": "3bef8b9a"
   },
   "outputs": [],
   "source": [
    "#2.2 create dataframe\n",
    "cumulative_sales_bydealership = pd.read_sql_query(query_2,engine)\n",
    "cumulative_sales_bydealership.dealership_id = cumulative_sales_bydealership.dealership_id.astype('int').astype('string')\n",
    "cumulative_sales_bydealership.sales_transaction_date = pd.to_datetime(cumulative_sales_bydealership.sales_transaction_date).dt.date.astype( 'datetime64[ns]' )"
   ]
  },
  {
   "cell_type": "code",
   "execution_count": 84,
   "id": "d8d935e2",
   "metadata": {
    "id": "d8d935e2",
    "scrolled": true
   },
   "outputs": [
    {
     "data": {
      "text/plain": [
       "[Text(0.5, 0, 'sales_transaction_date'),\n",
       " Text(0, 0.5, 'cumulative_sales'),\n",
       " Text(0.5, 1.0, 'Historical cumulative sales of dealerships in CA, TX')]"
      ]
     },
     "execution_count": 84,
     "metadata": {},
     "output_type": "execute_result"
    },
    {
     "data": {
      "text/plain": [
       "<matplotlib.legend.Legend at 0x7f77aad61668>"
      ]
     },
     "execution_count": 84,
     "metadata": {},
     "output_type": "execute_result"
    },
    {
     "data": {
      "image/png": "[encoded data removed]",
      "text/plain": [
       "<Figure size 432x288 with 1 Axes>"
      ]
     },
     "metadata": {
      "needs_background": "light"
     },
     "output_type": "display_data"
    }
   ],
   "source": [
    "#2.3 visualization\n",
    "import matplotlib.ticker as mticker\n",
    "ax=sns.lineplot(x='sales_transaction_date', y='cumulative_sales', hue='dealership_id', \n",
    "             data=cumulative_sales_bydealership,palette=\"bright\")\n",
    "sns.set_palette(\"pastel\")\n",
    " # add label to the axis and label to the plot\n",
    "ax.set(xlabel =\"sales_transaction_date\", ylabel = \"cumulative_sales\", title ='Historical cumulative sales of dealerships in CA, TX')\n",
    "#ax.set_xticklabels( ax.get_xticklabels(), rotation=45 )\n",
    "#ax.set_xticklabels(cumulative_sales_bydealership.sales_transaction_date.dt.date, rotation=90)\n",
    "#ax.ticklabel_format(style='plain', axis='y')\n",
    "ax.legend(title='dealership_id')\n",
    "ax.xaxis.set_major_locator(mticker.MaxNLocator(5))\n",
    "ticks_loc = ax.get_xticks().tolist()\n",
    "ax.xaxis.set_major_locator(mticker.FixedLocator(ticks_loc))\n",
    "#ax.set_xticklabels([label_format.format(x) for x in ticks_loc])\n",
    "ax.yaxis.get_major_formatter().set_scientific(False)"
   ]
  },
  {
   "cell_type": "markdown",
   "id": "8c66a03d",
   "metadata": {
    "id": "8c66a03d"
   },
   "source": [
    "## Part 3: Product mix and sales\n",
    "\n",
    "Create tables and visualizations to compare the proportion of scooter sales with total sales amount by state for sales from January 2017 to now. To do this, perform the following steps:\n",
    "    \n",
    "   1. Write a SELECT query that returns three columns: `state`,`prop_scooters`, and `total_sales`.  `prop_scooters` represents the proportion of scooter sales out of all sales made from January 2017 to now, `total_sales` represents the total sales amount from January 1, 2017 to now.  There should be one row for each state *and no more*.\n",
    "    \n",
    "    \n",
    "   2. Use SQLAlchemy to execute the query and store the results in a pandas dataframe called `prop_scoot`.\n",
    "    \n",
    "    \n",
    "   3. Appropriately visualize the relationship between proportion of scooter sales and total sales *in a single plot*. Visualization should be **presentation ready** (e.g. appropriate and complete titles and legend/axis labels, remove unnecessary/distracting features, display date range for total sales, no overlapping axis labels, etc.). "
   ]
  },
  {
   "cell_type": "code",
   "execution_count": 85,
   "id": "2cd52002",
   "metadata": {
    "id": "2cd52002"
   },
   "outputs": [],
   "source": [
    "#3.1 select query\n",
    "query_3 = \"\"\"\n",
    " with CTE_1 as\n",
    "  (\n",
    "  SELECT state,CAST(count(product_type) AS DECIMAL) as scooters\n",
    "  FROM customers as c \n",
    "  RIGHT JOIN sales as s\n",
    "  ON c.customer_id=s.customer_id\n",
    "  LEFT JOIN products as p\n",
    "  ON s.product_id = p.product_id\n",
    "  WHERE (p.product_type='scooter') and (s.sales_transaction_date >= '2017-01-01') \n",
    " GROUP BY state\n",
    "  ),\n",
    "  CTE_2 as\n",
    "  (\n",
    "  SELECT state, CAST(count(product_type) AS DECIMAL) as allproducts,\n",
    "  SUM(s.sales_amount) AS total_sales\n",
    "  FROM customers AS c \n",
    "  RIGHT JOIN sales AS s\n",
    "  on c.customer_id = s.customer_id\n",
    "  LEFT JOIN products AS p\n",
    "  ON s.product_id = p.product_id\n",
    "  WHERE s.sales_transaction_date >= '2017-01-01' \n",
    "  GROUP BY state\n",
    "  )\n",
    "  SELECT CTE_1.state, (CTE_1.scooters)/(CTE_2.allproducts) AS prop_scooters, ROUND(CAST(CTE_2.total_sales as DECIMAL),2) AS total_sales\n",
    "  FROM CTE_1\n",
    "  RIGHT JOIN CTE_2\n",
    "  ON CTE_1.state  = CTE_2.state\n",
    "  ORDER BY prop_scooters\n",
    "\"\"\""
   ]
  },
  {
   "cell_type": "code",
   "execution_count": 86,
   "id": "f2bdc9f4",
   "metadata": {
    "id": "f2bdc9f4"
   },
   "outputs": [
    {
     "data": {
      "text/html": [
       "<div>\n",
       "<style scoped>\n",
       "    .dataframe tbody tr th:only-of-type {\n",
       "        vertical-align: middle;\n",
       "    }\n",
       "\n",
       "    .dataframe tbody tr th {\n",
       "        vertical-align: top;\n",
       "    }\n",
       "\n",
       "    .dataframe thead th {\n",
       "        text-align: right;\n",
       "    }\n",
       "</style>\n",
       "<table border=\"1\" class=\"dataframe\">\n",
       "  <thead>\n",
       "    <tr style=\"text-align: right;\">\n",
       "      <th></th>\n",
       "      <th>state</th>\n",
       "      <th>prop_scooters</th>\n",
       "      <th>total_sales</th>\n",
       "    </tr>\n",
       "  </thead>\n",
       "  <tbody>\n",
       "    <tr>\n",
       "      <th>0</th>\n",
       "      <td>VT</td>\n",
       "      <td>0.800000</td>\n",
       "      <td>30014.96</td>\n",
       "    </tr>\n",
       "    <tr>\n",
       "      <th>1</th>\n",
       "      <td>DE</td>\n",
       "      <td>0.823529</td>\n",
       "      <td>578364.60</td>\n",
       "    </tr>\n",
       "    <tr>\n",
       "      <th>2</th>\n",
       "      <td>NH</td>\n",
       "      <td>0.852941</td>\n",
       "      <td>371714.72</td>\n",
       "    </tr>\n",
       "    <tr>\n",
       "      <th>3</th>\n",
       "      <td>AR</td>\n",
       "      <td>0.854369</td>\n",
       "      <td>997384.16</td>\n",
       "    </tr>\n",
       "    <tr>\n",
       "      <th>4</th>\n",
       "      <td>WI</td>\n",
       "      <td>0.856459</td>\n",
       "      <td>2063418.28</td>\n",
       "    </tr>\n",
       "    <tr>\n",
       "      <th>5</th>\n",
       "      <td>WV</td>\n",
       "      <td>0.861244</td>\n",
       "      <td>2133073.28</td>\n",
       "    </tr>\n",
       "    <tr>\n",
       "      <th>6</th>\n",
       "      <td>KY</td>\n",
       "      <td>0.872587</td>\n",
       "      <td>2148697.84</td>\n",
       "    </tr>\n",
       "    <tr>\n",
       "      <th>7</th>\n",
       "      <td>NC</td>\n",
       "      <td>0.879747</td>\n",
       "      <td>3575996.01</td>\n",
       "    </tr>\n",
       "    <tr>\n",
       "      <th>8</th>\n",
       "      <td>MO</td>\n",
       "      <td>0.881607</td>\n",
       "      <td>4002390.99</td>\n",
       "    </tr>\n",
       "    <tr>\n",
       "      <th>9</th>\n",
       "      <td>ND</td>\n",
       "      <td>0.882353</td>\n",
       "      <td>415769.71</td>\n",
       "    </tr>\n",
       "    <tr>\n",
       "      <th>10</th>\n",
       "      <td>MA</td>\n",
       "      <td>0.882353</td>\n",
       "      <td>2133992.85</td>\n",
       "    </tr>\n",
       "    <tr>\n",
       "      <th>11</th>\n",
       "      <td>AL</td>\n",
       "      <td>0.885645</td>\n",
       "      <td>3197966.52</td>\n",
       "    </tr>\n",
       "    <tr>\n",
       "      <th>12</th>\n",
       "      <td>AK</td>\n",
       "      <td>0.886076</td>\n",
       "      <td>670069.33</td>\n",
       "    </tr>\n",
       "    <tr>\n",
       "      <th>13</th>\n",
       "      <td>MN</td>\n",
       "      <td>0.886311</td>\n",
       "      <td>3455946.36</td>\n",
       "    </tr>\n",
       "    <tr>\n",
       "      <th>14</th>\n",
       "      <td>IN</td>\n",
       "      <td>0.886889</td>\n",
       "      <td>3294076.71</td>\n",
       "    </tr>\n",
       "    <tr>\n",
       "      <th>15</th>\n",
       "      <td>PA</td>\n",
       "      <td>0.888342</td>\n",
       "      <td>5031834.85</td>\n",
       "    </tr>\n",
       "    <tr>\n",
       "      <th>16</th>\n",
       "      <td>CT</td>\n",
       "      <td>0.888430</td>\n",
       "      <td>1931432.95</td>\n",
       "    </tr>\n",
       "    <tr>\n",
       "      <th>17</th>\n",
       "      <td>KS</td>\n",
       "      <td>0.889680</td>\n",
       "      <td>2081442.62</td>\n",
       "    </tr>\n",
       "    <tr>\n",
       "      <th>18</th>\n",
       "      <td>NY</td>\n",
       "      <td>0.889960</td>\n",
       "      <td>9523439.42</td>\n",
       "    </tr>\n",
       "    <tr>\n",
       "      <th>19</th>\n",
       "      <td>MI</td>\n",
       "      <td>0.890306</td>\n",
       "      <td>3052826.66</td>\n",
       "    </tr>\n",
       "    <tr>\n",
       "      <th>20</th>\n",
       "      <td>TX</td>\n",
       "      <td>0.890336</td>\n",
       "      <td>15425788.00</td>\n",
       "    </tr>\n",
       "    <tr>\n",
       "      <th>21</th>\n",
       "      <td>GA</td>\n",
       "      <td>0.892336</td>\n",
       "      <td>4113195.33</td>\n",
       "    </tr>\n",
       "    <tr>\n",
       "      <th>22</th>\n",
       "      <td>ID</td>\n",
       "      <td>0.893204</td>\n",
       "      <td>868799.12</td>\n",
       "    </tr>\n",
       "    <tr>\n",
       "      <th>23</th>\n",
       "      <td>WA</td>\n",
       "      <td>0.897129</td>\n",
       "      <td>3072641.42</td>\n",
       "    </tr>\n",
       "    <tr>\n",
       "      <th>24</th>\n",
       "      <td>FL</td>\n",
       "      <td>0.897781</td>\n",
       "      <td>10410607.25</td>\n",
       "    </tr>\n",
       "    <tr>\n",
       "      <th>25</th>\n",
       "      <td>CA</td>\n",
       "      <td>0.897876</td>\n",
       "      <td>15857815.99</td>\n",
       "    </tr>\n",
       "    <tr>\n",
       "      <th>26</th>\n",
       "      <td>NV</td>\n",
       "      <td>0.899281</td>\n",
       "      <td>1875462.60</td>\n",
       "    </tr>\n",
       "    <tr>\n",
       "      <th>27</th>\n",
       "      <td>DC</td>\n",
       "      <td>0.899833</td>\n",
       "      <td>4747799.88</td>\n",
       "    </tr>\n",
       "    <tr>\n",
       "      <th>28</th>\n",
       "      <td>ME</td>\n",
       "      <td>0.900000</td>\n",
       "      <td>36364.92</td>\n",
       "    </tr>\n",
       "    <tr>\n",
       "      <th>29</th>\n",
       "      <td>MD</td>\n",
       "      <td>0.901709</td>\n",
       "      <td>1711213.00</td>\n",
       "    </tr>\n",
       "    <tr>\n",
       "      <th>30</th>\n",
       "      <td>UT</td>\n",
       "      <td>0.903226</td>\n",
       "      <td>1234198.39</td>\n",
       "    </tr>\n",
       "    <tr>\n",
       "      <th>31</th>\n",
       "      <td>CO</td>\n",
       "      <td>0.904206</td>\n",
       "      <td>2694911.29</td>\n",
       "    </tr>\n",
       "    <tr>\n",
       "      <th>32</th>\n",
       "      <td>IL</td>\n",
       "      <td>0.904472</td>\n",
       "      <td>3585130.76</td>\n",
       "    </tr>\n",
       "    <tr>\n",
       "      <th>33</th>\n",
       "      <td>HI</td>\n",
       "      <td>0.905882</td>\n",
       "      <td>641439.27</td>\n",
       "    </tr>\n",
       "    <tr>\n",
       "      <th>34</th>\n",
       "      <td>SC</td>\n",
       "      <td>0.905941</td>\n",
       "      <td>1461923.25</td>\n",
       "    </tr>\n",
       "    <tr>\n",
       "      <th>35</th>\n",
       "      <td>OR</td>\n",
       "      <td>0.906250</td>\n",
       "      <td>961368.60</td>\n",
       "    </tr>\n",
       "    <tr>\n",
       "      <th>36</th>\n",
       "      <td>MS</td>\n",
       "      <td>0.906475</td>\n",
       "      <td>835088.79</td>\n",
       "    </tr>\n",
       "    <tr>\n",
       "      <th>37</th>\n",
       "      <td>TN</td>\n",
       "      <td>0.907692</td>\n",
       "      <td>3011376.64</td>\n",
       "    </tr>\n",
       "    <tr>\n",
       "      <th>38</th>\n",
       "      <td>LA</td>\n",
       "      <td>0.907895</td>\n",
       "      <td>2558471.73</td>\n",
       "    </tr>\n",
       "    <tr>\n",
       "      <th>39</th>\n",
       "      <td>AZ</td>\n",
       "      <td>0.908309</td>\n",
       "      <td>2266906.98</td>\n",
       "    </tr>\n",
       "    <tr>\n",
       "      <th>40</th>\n",
       "      <td>OK</td>\n",
       "      <td>0.910596</td>\n",
       "      <td>2095892.40</td>\n",
       "    </tr>\n",
       "    <tr>\n",
       "      <th>41</th>\n",
       "      <td>OH</td>\n",
       "      <td>0.912593</td>\n",
       "      <td>4198514.12</td>\n",
       "    </tr>\n",
       "    <tr>\n",
       "      <th>42</th>\n",
       "      <td>VA</td>\n",
       "      <td>0.912917</td>\n",
       "      <td>4407463.98</td>\n",
       "    </tr>\n",
       "    <tr>\n",
       "      <th>43</th>\n",
       "      <td>NE</td>\n",
       "      <td>0.916230</td>\n",
       "      <td>833143.33</td>\n",
       "    </tr>\n",
       "    <tr>\n",
       "      <th>44</th>\n",
       "      <td>NM</td>\n",
       "      <td>0.920000</td>\n",
       "      <td>560044.12</td>\n",
       "    </tr>\n",
       "    <tr>\n",
       "      <th>45</th>\n",
       "      <td>IA</td>\n",
       "      <td>0.926136</td>\n",
       "      <td>753738.45</td>\n",
       "    </tr>\n",
       "    <tr>\n",
       "      <th>46</th>\n",
       "      <td>NJ</td>\n",
       "      <td>0.948864</td>\n",
       "      <td>646548.40</td>\n",
       "    </tr>\n",
       "    <tr>\n",
       "      <th>47</th>\n",
       "      <td>MT</td>\n",
       "      <td>0.962264</td>\n",
       "      <td>163149.51</td>\n",
       "    </tr>\n",
       "    <tr>\n",
       "      <th>48</th>\n",
       "      <td>RI</td>\n",
       "      <td>1.000000</td>\n",
       "      <td>6099.90</td>\n",
       "    </tr>\n",
       "    <tr>\n",
       "      <th>49</th>\n",
       "      <td>WY</td>\n",
       "      <td>1.000000</td>\n",
       "      <td>3249.94</td>\n",
       "    </tr>\n",
       "    <tr>\n",
       "      <th>50</th>\n",
       "      <td>SD</td>\n",
       "      <td>1.000000</td>\n",
       "      <td>24179.58</td>\n",
       "    </tr>\n",
       "  </tbody>\n",
       "</table>\n",
       "</div>"
      ],
      "text/plain": [
       "   state  prop_scooters  total_sales\n",
       "0     VT       0.800000     30014.96\n",
       "1     DE       0.823529    578364.60\n",
       "2     NH       0.852941    371714.72\n",
       "3     AR       0.854369    997384.16\n",
       "4     WI       0.856459   2063418.28\n",
       "5     WV       0.861244   2133073.28\n",
       "6     KY       0.872587   2148697.84\n",
       "7     NC       0.879747   3575996.01\n",
       "8     MO       0.881607   4002390.99\n",
       "9     ND       0.882353    415769.71\n",
       "10    MA       0.882353   2133992.85\n",
       "11    AL       0.885645   3197966.52\n",
       "12    AK       0.886076    670069.33\n",
       "13    MN       0.886311   3455946.36\n",
       "14    IN       0.886889   3294076.71\n",
       "15    PA       0.888342   5031834.85\n",
       "16    CT       0.888430   1931432.95\n",
       "17    KS       0.889680   2081442.62\n",
       "18    NY       0.889960   9523439.42\n",
       "19    MI       0.890306   3052826.66\n",
       "20    TX       0.890336  15425788.00\n",
       "21    GA       0.892336   4113195.33\n",
       "22    ID       0.893204    868799.12\n",
       "23    WA       0.897129   3072641.42\n",
       "24    FL       0.897781  10410607.25\n",
       "25    CA       0.897876  15857815.99\n",
       "26    NV       0.899281   1875462.60\n",
       "27    DC       0.899833   4747799.88\n",
       "28    ME       0.900000     36364.92\n",
       "29    MD       0.901709   1711213.00\n",
       "30    UT       0.903226   1234198.39\n",
       "31    CO       0.904206   2694911.29\n",
       "32    IL       0.904472   3585130.76\n",
       "33    HI       0.905882    641439.27\n",
       "34    SC       0.905941   1461923.25\n",
       "35    OR       0.906250    961368.60\n",
       "36    MS       0.906475    835088.79\n",
       "37    TN       0.907692   3011376.64\n",
       "38    LA       0.907895   2558471.73\n",
       "39    AZ       0.908309   2266906.98\n",
       "40    OK       0.910596   2095892.40\n",
       "41    OH       0.912593   4198514.12\n",
       "42    VA       0.912917   4407463.98\n",
       "43    NE       0.916230    833143.33\n",
       "44    NM       0.920000    560044.12\n",
       "45    IA       0.926136    753738.45\n",
       "46    NJ       0.948864    646548.40\n",
       "47    MT       0.962264    163149.51\n",
       "48    RI       1.000000      6099.90\n",
       "49    WY       1.000000      3249.94\n",
       "50    SD       1.000000     24179.58"
      ]
     },
     "execution_count": 86,
     "metadata": {},
     "output_type": "execute_result"
    }
   ],
   "source": [
    "#3.2 create data frame\n",
    "prop_scoot = pd.read_sql_query(query_3,engine)\n",
    "prop_scoot=prop_scoot.dropna()\n",
    "\n",
    "prop_scoot"
   ]
  },
  {
   "cell_type": "code",
   "execution_count": 87,
   "id": "4915ce52",
   "metadata": {
    "id": "4915ce52"
   },
   "outputs": [
    {
     "data": {
      "image/png": "[encoded data removed]",
      "text/plain": [
       "<Figure size 1080x720 with 1 Axes>"
      ]
     },
     "metadata": {
      "needs_background": "light"
     },
     "output_type": "display_data"
    }
   ],
   "source": [
    "#3.3 visualization\n",
    "mytext = plt.figure(figsize=(15,10))\n",
    "ax=sns.scatterplot(data=prop_scoot, \n",
    "             x=\"prop_scooters\", \n",
    "             y=\"total_sales\", hue=\"state\", \n",
    "             palette = 'Set2', legend = False).set(title='Total Sales Amount vs Proportion of Scooter Sales',\n",
    "                                           xlabel='Proportion of Scooter Sales', ylabel='Total Sales')"
   ]
  },
  {
   "cell_type": "markdown",
   "id": "421b0c9b",
   "metadata": {
    "id": "421b0c9b"
   },
   "source": [
    "\n",
    "## Part 4: Takeaways from the analysis\n",
    "\n",
    "Provide your thoughts about the analysis above by answering the following questions in the blank markdown cells provided below. No code should be run for this section.\n",
    "\n",
    "\n",
    "   1. (Part 1) What are some potential hypotheses as to why the top 5 performing states have the highest sales amounts?  Describe how you would test your hypotheses in further analysis.  Do not conduct any additional analyses or write any more queries, just describe in words.\n",
    "          \n",
    "          \n",
    "   2. (Part 1) What are some potential hypotheses as to why the bottom 5 performing states have the lowest sales amounts?  Describe how you would test your hypotheses in further analysis.  Do not conduct any additional analyses or write any more queries, just describe in words.\n",
    "   \n",
    "   \n",
    "   3. (Part 2): How would you characterize the historical performance of the dealerships visualized in Part 2 (e.g. good, bad, growing, declining, etc.)?  Describe some of the trends in relative performance over time for the dealerships.  Be specific and cite specific elements of the visualization created in Part 2 to support your claims.  Specify any additional factors you would want to consider that would influence your performance assessment. \n",
    "     \n",
    "     \n",
    "   4. (Part 3):  How would you describe the relationship between product mix (i.e. proportion of scooters sold) and total sales?  Be specific and cite specific elements of the visualization created in Part 3 to support your claims.\n",
    "\n",
    "   \n",
    "   5. (Part 3): What are some potential hypotheses as to why product mix and sales are related in the manner described in 4.4?  Describe how you would test your hypotheses in further analysis.  Do not conduct any additional analyses or write any more queries, just describe in words."
   ]
  },
  {
   "cell_type": "markdown",
   "id": "03d3e7ac",
   "metadata": {
    "id": "03d3e7ac"
   },
   "source": [
    "### Part 4 Responses"
   ]
  },
  {
   "cell_type": "markdown",
   "id": "c01e7635",
   "metadata": {
    "id": "c01e7635"
   },
   "source": [
    "For each of the following questions, answer in as much preciseness and clarity that you can. Refer back to the tables and plots that you have created to back up your answers if necessary. Answer each question in the cell below. You are NOT to code anything for this section. This is for you to reflect on the analysis developed in response to Parts 1-3."
   ]
  },
  {
   "cell_type": "markdown",
   "id": "837c37b2",
   "metadata": {
    "id": "837c37b2"
   },
   "source": [
    "1. (Part 1) What are some potential hypotheses as to why the top 5 performing states have the highest sales amounts?  Describe how you would test your hypotheses in further analysis.  Do not conduct any additional analyses or write any more queries, just describe in words."
   ]
  },
  {
   "cell_type": "markdown",
   "id": "3c4f0c3b",
   "metadata": {
    "id": "3c4f0c3b"
   },
   "source": [
    "< After our analysis, we saw that the top 5 performing states were CA, TX, FL, NY and PA. There are a number of possible reasons for this. Firstly, these 5 states are the 5 most populous states in the U.S. It can be assumed that due to the large population, it is natural that sales will be higher. Secondly, these are also some of the richest states with the highest GDPs. The average person in these states is more likely to be able to afford vehicles, and even spend relatively more on such purchases. Next, it is possible that there are more dealerships in these areas due to the other factors mentioned above. More dealerships would be effective at bringing in more sales. To test these hypotheses, it is important to take a look at the number of dealerships in these regions. We can also see the trends of people buying cars compared to other states, which could have resulted in more allocation to these states. A further study of the income demographics can help answer whether affordability is a factor. Next, there is a possibility that the people in these states prefer personal vehicles over public infrastructure. An analysis of the percentage of population willing to travel by other means could shed more light on this. >\n",
    "\n",
    "\n",
    "\n",
    "\n",
    "\n"
   ]
  },
  {
   "cell_type": "markdown",
   "id": "68b5e379",
   "metadata": {
    "id": "68b5e379"
   },
   "source": [
    " 2. (Part 1) What are some potential hypotheses as to why the bottom 5 performing states have the lowest sales amounts?  Describe how you would test your hypotheses in further analysis.  Do not conduct any additional analyses or write any more queries, just describe in words."
   ]
  },
  {
   "cell_type": "markdown",
   "id": "f5bf8038",
   "metadata": {
    "id": "f5bf8038"
   },
   "source": [
    "< After our analysis, we saw that the bottom 5 performing states were ME, VT, SD, RI and WY. There are multiple reasons.\n",
    "1) These 5 states are the 5 least populated states in the U.S. It can be assumed that due to the small population, it is natural that sales will be least. <br>\n",
    "2)  There are less dealerships in these areas and less dealerships would be equal to bringing in less sales.<br>\n",
    "3) These are also some of the poorest states with the least GDPs.<br>\n",
    "4) Even checking whether the public transportation is good and highly convenient can make a difference to this analysis.<br>\n",
    "Further analysis of the income differences can shed light on the fact whether people can afford vehicles and would want to travel by personal vehicles. <br>"
   ]
  },
  {
   "cell_type": "markdown",
   "id": "a2dc1d0a",
   "metadata": {
    "id": "a2dc1d0a"
   },
   "source": [
    "3. (Part 2): How would you characterize the historical performance of the dealerships visualized in Part 2 (e.g. good, bad, growing, declining, etc.)?  Describe some of the trends in relative performance over time for the dealerships.  Be specific and cite specific elements of the visualization created in Part 2 to support your claims.  Specify any additional factors you would want to consider that could influence your performance assessment. \n"
   ]
  },
  {
   "cell_type": "markdown",
   "id": "abc8719c",
   "metadata": {
    "id": "abc8719c"
   },
   "source": [
    "< From Part 1 of this assignment, CA and TX are top two states in sales performance from January 1, 2017 to now. For the dealerships in the aforementioned states, we plotted their historical cumulative sales amounts along this time course. cumulative_sales of all dealerships growed roughly linearly along date course.   It shows steady business of motor sales in these two states in this period. cumulative_sales of most dealers obviously bent up in 2018 and such a trend continued later on. Associated Press reported that \"strong economic fundamentals pushed up (motor) sales\" in 2018. Dealerships 14 performed slightly poorly.This might be affected by geographic factors (like rural areas) or their sales skills.>"
   ]
  },
  {
   "cell_type": "markdown",
   "id": "1568c480",
   "metadata": {
    "id": "1568c480"
   },
   "source": [
    " 4. (Part 3):  How would you describe the relationship between product mix (i.e. proportion of scooters sold) and total sales?  Be specific and cite specific elements of the visualization created in Part 3 to support your claims.\n"
   ]
  },
  {
   "cell_type": "markdown",
   "id": "045e8abe",
   "metadata": {
    "id": "045e8abe"
   },
   "source": [
    "< After visualization we can see that the proportion of scooters is scattered between 0.88 and 0.91 i.e. maximum sales are observed when the proportion is in between 0.88 and 0.91. Sales are least when the proportion of scooters is either the least value i.e. 0.82 or highest value i.e. 0.95 and also proportion says that max proportion of total sales are scooters as most of them prefer scooters over other vehicles. >"
   ]
  },
  {
   "cell_type": "markdown",
   "id": "721fe160",
   "metadata": {
    "id": "721fe160"
   },
   "source": [
    " 5. (Part 3): What are some potential hypotheses as to why product mix and sales are related in the manner described in 5?  Describe how you would test your hypotheses in further analysis.  Do not conduct any additional analyses or write any more queries, just describe in words."
   ]
  },
  {
   "cell_type": "markdown",
   "id": "ae8cd758",
   "metadata": {
    "id": "ae8cd758"
   },
   "source": [
    "< From the 4th question, we can infer that sale of scooters account for the majority of sales for all the states. That is on an average, scooter sales account for 89.9% of all the sales per state, as per the descriptive statistics summary obtained from the proportion column of our dataframe. Some potential hypothesis for scooter sales representing a major portion of the dealership business can be per captia income of each household, average age group of population, people's preference of type of vehicle as a means of transportation, road infrastructure, to name a few. We can verify this hypothesis by performing exploratory data analysis on various demographic surveys, census data, or some other public surveys conducted by govt. or private institutions. This will give us meaningful insights on the correlation between the various factors connected to the scooter sales in the states. >"
   ]
  }
 ],
 "metadata": {
  "colab": {
   "provenance": []
  },
  "kernelspec": {
   "display_name": "Python 3 (ipykernel)",
   "language": "python",
   "name": "python3"
  },
  "language_info": {
   "codemirror_mode": {
    "name": "ipython",
    "version": 3
   },
   "file_extension": ".py",
   "mimetype": "text/x-python",
   "name": "python",
   "nbconvert_exporter": "python",
   "pygments_lexer": "ipython3",
   "version": "3.7.3"
  }
 },
 "nbformat": 4,
 "nbformat_minor": 5
}
